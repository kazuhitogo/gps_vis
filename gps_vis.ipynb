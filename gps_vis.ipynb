{
 "cells": [
  {
   "cell_type": "code",
   "execution_count": 1,
   "metadata": {},
   "outputs": [],
   "source": [
    "import os\n",
    "import folium\n",
    "import pandas as pd\n",
    "from time import sleep as slp\n",
    "from selenium import webdriver\n",
    "import glob\n",
    "from selenium.webdriver.chrome.options import Options\n",
    "import os"
   ]
  },
  {
   "cell_type": "code",
   "execution_count": 2,
   "metadata": {},
   "outputs": [
    {
     "data": {
      "text/plain": [
      ]
     },
     "execution_count": 2,
     "metadata": {},
     "output_type": "execute_result"
    }
   ],
   "source": [
    "os.getcwd()"
   ]
  },
  {
   "cell_type": "markdown",
   "metadata": {},
   "source": [
    "# 前準備"
   ]
  },
  {
   "cell_type": "code",
   "execution_count": 3,
   "metadata": {},
   "outputs": [],
   "source": [
    "data = pd.read_csv(\"./gps.csv\",encoding=\"shift_jis\")"
   ]
  },
  {
   "cell_type": "code",
   "execution_count": 4,
   "metadata": {},
   "outputs": [
    {
     "data": {
      "text/html": [
       "<div>\n",
       "<style scoped>\n",
       "    .dataframe tbody tr th:only-of-type {\n",
       "        vertical-align: middle;\n",
       "    }\n",
       "\n",
       "    .dataframe tbody tr th {\n",
       "        vertical-align: top;\n",
       "    }\n",
       "\n",
       "    .dataframe thead th {\n",
       "        text-align: right;\n",
       "    }\n",
       "</style>\n",
       "<table border=\"1\" class=\"dataframe\">\n",
       "  <thead>\n",
       "    <tr style=\"text-align: right;\">\n",
       "      <th></th>\n",
       "      <th>人</th>\n",
       "      <th>日時</th>\n",
       "      <th>緯度</th>\n",
       "      <th>経度</th>\n",
       "    </tr>\n",
       "  </thead>\n",
       "  <tbody>\n",
       "    <tr>\n",
       "      <th>0</th>\n",
       "      <td>A</td>\n",
       "      <td>2019/2/22 12:00</td>\n",
       "      <td>35.619700</td>\n",
       "      <td>139.728553</td>\n",
       "    </tr>\n",
       "    <tr>\n",
       "      <th>1</th>\n",
       "      <td>A</td>\n",
       "      <td>2019/2/22 12:01</td>\n",
       "      <td>35.626446</td>\n",
       "      <td>139.723444</td>\n",
       "    </tr>\n",
       "    <tr>\n",
       "      <th>2</th>\n",
       "      <td>A</td>\n",
       "      <td>2019/2/22 12:02</td>\n",
       "      <td>35.633998</td>\n",
       "      <td>139.715828</td>\n",
       "    </tr>\n",
       "    <tr>\n",
       "      <th>3</th>\n",
       "      <td>A</td>\n",
       "      <td>2019/2/22 12:03</td>\n",
       "      <td>35.646690</td>\n",
       "      <td>139.710106</td>\n",
       "    </tr>\n",
       "    <tr>\n",
       "      <th>4</th>\n",
       "      <td>A</td>\n",
       "      <td>2019/2/22 12:04</td>\n",
       "      <td>35.658517</td>\n",
       "      <td>139.701334</td>\n",
       "    </tr>\n",
       "  </tbody>\n",
       "</table>\n",
       "</div>"
      ],
      "text/plain": [
       "   人               日時         緯度          経度\n",
       "0  A  2019/2/22 12:00  35.619700  139.728553\n",
       "1  A  2019/2/22 12:01  35.626446  139.723444\n",
       "2  A  2019/2/22 12:02  35.633998  139.715828\n",
       "3  A  2019/2/22 12:03  35.646690  139.710106\n",
       "4  A  2019/2/22 12:04  35.658517  139.701334"
      ]
     },
     "execution_count": 4,
     "metadata": {},
     "output_type": "execute_result"
    }
   ],
   "source": [
    "data.head()"
   ]
  },
  {
   "cell_type": "code",
   "execution_count": 5,
   "metadata": {},
   "outputs": [
    {
     "data": {
      "text/html": [
       "<div>\n",
       "<style scoped>\n",
       "    .dataframe tbody tr th:only-of-type {\n",
       "        vertical-align: middle;\n",
       "    }\n",
       "\n",
       "    .dataframe tbody tr th {\n",
       "        vertical-align: top;\n",
       "    }\n",
       "\n",
       "    .dataframe thead th {\n",
       "        text-align: right;\n",
       "    }\n",
       "</style>\n",
       "<table border=\"1\" class=\"dataframe\">\n",
       "  <thead>\n",
       "    <tr style=\"text-align: right;\">\n",
       "      <th></th>\n",
       "      <th>人</th>\n",
       "      <th>日時</th>\n",
       "      <th>緯度</th>\n",
       "      <th>経度</th>\n",
       "    </tr>\n",
       "  </thead>\n",
       "  <tbody>\n",
       "    <tr>\n",
       "      <th>30</th>\n",
       "      <td>B</td>\n",
       "      <td>2019/2/22 12:00</td>\n",
       "      <td>35.681382</td>\n",
       "      <td>139.766084</td>\n",
       "    </tr>\n",
       "    <tr>\n",
       "      <th>31</th>\n",
       "      <td>B</td>\n",
       "      <td>2019/2/22 12:30</td>\n",
       "      <td>35.630152</td>\n",
       "      <td>139.740440</td>\n",
       "    </tr>\n",
       "    <tr>\n",
       "      <th>32</th>\n",
       "      <td>B</td>\n",
       "      <td>2019/2/22 13:00</td>\n",
       "      <td>35.507456</td>\n",
       "      <td>139.617585</td>\n",
       "    </tr>\n",
       "    <tr>\n",
       "      <th>33</th>\n",
       "      <td>B</td>\n",
       "      <td>2019/2/22 13:30</td>\n",
       "      <td>35.256420</td>\n",
       "      <td>139.154904</td>\n",
       "    </tr>\n",
       "    <tr>\n",
       "      <th>34</th>\n",
       "      <td>B</td>\n",
       "      <td>2019/2/22 14:00</td>\n",
       "      <td>35.103217</td>\n",
       "      <td>139.077760</td>\n",
       "    </tr>\n",
       "  </tbody>\n",
       "</table>\n",
       "</div>"
      ],
      "text/plain": [
       "    人               日時         緯度          経度\n",
       "30  B  2019/2/22 12:00  35.681382  139.766084\n",
       "31  B  2019/2/22 12:30  35.630152  139.740440\n",
       "32  B  2019/2/22 13:00  35.507456  139.617585\n",
       "33  B  2019/2/22 13:30  35.256420  139.154904\n",
       "34  B  2019/2/22 14:00  35.103217  139.077760"
      ]
     },
     "execution_count": 5,
     "metadata": {},
     "output_type": "execute_result"
    }
   ],
   "source": [
    "data[data[\"人\"] == \"B\"].head()"
   ]
  },
  {
   "cell_type": "code",
   "execution_count": 6,
   "metadata": {},
   "outputs": [],
   "source": [
    "person_list = data[\"人\"].unique()"
   ]
  },
  {
   "cell_type": "code",
   "execution_count": 7,
   "metadata": {},
   "outputs": [],
   "source": [
    "color_list=['red','blue','green','purple','orange','darkred','lightred','beige','darkblue','darkgreen','cadetblue','darkpurple','white','pink','lightblue','lightgreen','gray','black','lightgray']"
   ]
  },
  {
   "cell_type": "markdown",
   "metadata": {},
   "source": [
    "# jupyter notebookにそれぞれの人の動きを表示する。"
   ]
  },
  {
   "cell_type": "code",
   "execution_count": 8,
   "metadata": {},
   "outputs": [
    {
     "data": {
      "text/html": [
       "<div style=\"width:100%;\"><div style=\"position:relative;width:100%;height:0;padding-bottom:60%;\"><iframe src=\"data:text/html;charset=utf-8;base64,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\" style=\"position:absolute;width:100%;height:100%;left:0;top:0;border:none !important;\" allowfullscreen webkitallowfullscreen mozallowfullscreen></iframe></div></div>"
      ],
      "text/plain": [
       "<folium.folium.Map at 0x2c3b24fa128>"
      ]
     },
     "execution_count": 8,
     "metadata": {},
     "output_type": "execute_result"
    }
   ],
   "source": [
    "# 地図オブジェクトを作成\n",
    "m = folium.Map(tiles='OpenStreetMap')\n",
    "\n",
    "for idx,person in enumerate(person_list):\n",
    "    # 一人分のデータだけをdata_tempに格納する\n",
    "    data_temp = data[data[\"人\"] == person]\n",
    "    \n",
    "    # data_tempの順番を日時で昇順ソート\n",
    "    data_temp = data_temp.sort_values('日時', ascending=True)\n",
    "    \n",
    "    # data_tempの緯度経度だけをデータフレームに残す\n",
    "    data_temp_lat_lon = data_temp[[\"緯度\",\"経度\"]]\n",
    "    \n",
    "    # 緯度経度を配列に格納\n",
    "    locs = data_temp_lat_lon.values\n",
    "    \n",
    "    # 色を指定\n",
    "    line_color = color_list[idx%len(color_list)]\n",
    "    \n",
    "    # 地図に線を追加する。緯度経度の配列をそのまま線として使う\n",
    "    folium.PolyLine(locs,color=line_color,popup=person).add_to(m)\n",
    "    \n",
    "# 地図の表示範囲を緯度経度の最低最大とする\n",
    "m.fit_bounds([[data[\"緯度\"].min(),data[\"経度\"].min()], [data[\"緯度\"].max(),data[\"経度\"].max()]])\n",
    "\n",
    "# 地図を表示する\n",
    "m"
   ]
  },
  {
   "cell_type": "markdown",
   "metadata": {},
   "source": [
    "# 地図を人毎に作成し、htmlで保存し、画像化する"
   ]
  },
  {
   "cell_type": "code",
   "execution_count": 9,
   "metadata": {},
   "outputs": [],
   "source": [
    "for person in person_list:\n",
    "    # 一人分のデータだけをdata_tempに格納する\n",
    "    data_temp = data[data[\"人\"] == person]\n",
    "    \n",
    "    # data_tempの順番を日時で昇順ソート\n",
    "    data_temp = data_temp.sort_values('日時', ascending=True)\n",
    "    \n",
    "    # data_tempの緯度経度だけをデータフレームに残す\n",
    "    data_temp_lat_lon = data_temp[[\"緯度\",\"経度\"]]\n",
    "    \n",
    "    # 地図オブジェクトを生成\n",
    "    m = folium.Map(tiles='OpenStreetMap')\n",
    "    \n",
    "    # 緯度経度を配列に格納\n",
    "    locs = data_temp_lat_lon.values\n",
    "    \n",
    "    # 地図に線を追加する。緯度経度の配列をそのまま線として使う\n",
    "    folium.PolyLine(locs).add_to(m)\n",
    "    \n",
    "    # 地図の表示範囲を緯度経度の最低最大とする\n",
    "    m.fit_bounds([[data_temp[\"緯度\"].min(),data_temp[\"経度\"].min()], [data_temp[\"緯度\"].max(),data_temp[\"経度\"].max()]])\n",
    "    \n",
    "    # htmlに保存する\n",
    "    # ./html/xx.htmlに保存される\n",
    "    m.save(outfile=\"./html/\"+person+\".html\")\n",
    "\n",
    "    # seleniumでブラウザを開く\n",
    "    browser = webdriver.Chrome()\n",
    "    \n",
    "    # 画面を最大化\n",
    "    browser.maximize_window()\n",
    "    \n",
    "    # URLを指定(ローカルファイル)\n",
    "    cd = os.getcwd().replace('\\\\','/')\n",
    "    tmpurl=\"file://\"+cd+\"./html/\" + person + \".html\"\n",
    "    \n",
    "    # URLを開く\n",
    "    browser.get(tmpurl)\n",
    "    \n",
    "    # 一応3秒寝かす\n",
    "    slp(3)\n",
    "    \n",
    "    # スクリーンショットを取る\n",
    "    browser.save_screenshot(\"./png/\"+person+\".png\")\n",
    "    \n",
    "    # ブラウザを閉じる\n",
    "    browser.quit()"
   ]
  },
  {
   "cell_type": "code",
   "execution_count": null,
   "metadata": {},
   "outputs": [],
   "source": []
  }
 ],
 "metadata": {
  "kernelspec": {
   "display_name": "Python 3",
   "language": "python",
   "name": "python3"
  },
  "language_info": {
   "codemirror_mode": {
    "name": "ipython",
    "version": 3
   },
   "file_extension": ".py",
   "mimetype": "text/x-python",
   "name": "python",
   "nbconvert_exporter": "python",
   "pygments_lexer": "ipython3",
   "version": "3.7.0"
  }
 },
 "nbformat": 4,
 "nbformat_minor": 2
}
